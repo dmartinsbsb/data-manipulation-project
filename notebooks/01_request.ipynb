{
 "cells": [
  {
   "cell_type": "code",
   "execution_count": 103,
   "id": "bfc8b24b",
   "metadata": {},
   "outputs": [],
   "source": [
    "# === 01_request.ipynb ================================================\n",
    "# =====================================================================\n",
    "# Realizar as tarefas solicitadas pelo departamento de vendas\n",
    "# Uso de pandas para manipulação dos dados"
   ]
  },
  {
   "cell_type": "code",
   "execution_count": 106,
   "id": "2f8277ee",
   "metadata": {},
   "outputs": [],
   "source": [
    "# === Bibliotecas =========\n",
    "import pandas as pd"
   ]
  },
  {
   "cell_type": "code",
   "execution_count": 105,
   "id": "ab0fa6bb",
   "metadata": {},
   "outputs": [
    {
     "data": {
      "text/plain": [
       "'\\nO time de vendas solicitou um relatório para entender o desempenho de vendas por região. Eles pedem:\\n\\nUm arquivo contendo:\\n\\nID do Cliente\\n\\nNome do Cliente\\n\\nRegião\\n\\nTotal gasto por cliente\\n\\nOs dados devem estar agregados por cliente e ordenados pelo maior total gasto.\\n\\n'"
      ]
     },
     "execution_count": 105,
     "metadata": {},
     "output_type": "execute_result"
    }
   ],
   "source": [
    "\"\"\"\n",
    "O time de vendas solicitou um relatório para entender o desempenho de vendas por região. Eles pedem:\n",
    "\n",
    "Um arquivo contendo:\n",
    "\n",
    "ID do Cliente\n",
    "\n",
    "Nome do Cliente\n",
    "\n",
    "Região\n",
    "\n",
    "Total gasto por cliente\n",
    "\n",
    "Os dados devem estar agregados por cliente e ordenados pelo maior total gasto.\n",
    "\n",
    "\"\"\""
   ]
  },
  {
   "cell_type": "code",
   "execution_count": 107,
   "id": "9550229a",
   "metadata": {},
   "outputs": [],
   "source": [
    "# Lendo o dataset\n",
    "df = pd.read_csv(r\"..\\data\\processed\\dataset_processed.csv\")"
   ]
  },
  {
   "cell_type": "code",
   "execution_count": 111,
   "id": "4b523a5f",
   "metadata": {},
   "outputs": [
    {
     "data": {
      "text/html": [
       "<div>\n",
       "<style scoped>\n",
       "    .dataframe tbody tr th:only-of-type {\n",
       "        vertical-align: middle;\n",
       "    }\n",
       "\n",
       "    .dataframe tbody tr th {\n",
       "        vertical-align: top;\n",
       "    }\n",
       "\n",
       "    .dataframe thead th {\n",
       "        text-align: right;\n",
       "    }\n",
       "</style>\n",
       "<table border=\"1\" class=\"dataframe\">\n",
       "  <thead>\n",
       "    <tr style=\"text-align: right;\">\n",
       "      <th></th>\n",
       "      <th>ID_Cliente</th>\n",
       "      <th>Nome_Cliente</th>\n",
       "      <th>Idade</th>\n",
       "      <th>Região</th>\n",
       "      <th>Data_Compra</th>\n",
       "      <th>Valor_Compra</th>\n",
       "      <th>Produto</th>\n",
       "    </tr>\n",
       "  </thead>\n",
       "  <tbody>\n",
       "    <tr>\n",
       "      <th>0</th>\n",
       "      <td>C0001</td>\n",
       "      <td>Cliente 1</td>\n",
       "      <td>58</td>\n",
       "      <td>Norte</td>\n",
       "      <td>2023-01-26</td>\n",
       "      <td>296.25</td>\n",
       "      <td>Produto 17</td>\n",
       "    </tr>\n",
       "    <tr>\n",
       "      <th>1</th>\n",
       "      <td>C0001</td>\n",
       "      <td>Cliente 1</td>\n",
       "      <td>58</td>\n",
       "      <td>Norte</td>\n",
       "      <td>2023-09-29</td>\n",
       "      <td>87.14</td>\n",
       "      <td>Produto 17</td>\n",
       "    </tr>\n",
       "    <tr>\n",
       "      <th>2</th>\n",
       "      <td>C0001</td>\n",
       "      <td>Cliente 1</td>\n",
       "      <td>58</td>\n",
       "      <td>Norte</td>\n",
       "      <td>2023-02-11</td>\n",
       "      <td>427.16</td>\n",
       "      <td>Produto 3</td>\n",
       "    </tr>\n",
       "    <tr>\n",
       "      <th>3</th>\n",
       "      <td>C0001</td>\n",
       "      <td>Cliente 1</td>\n",
       "      <td>58</td>\n",
       "      <td>Norte</td>\n",
       "      <td>2023-11-01</td>\n",
       "      <td>43.30</td>\n",
       "      <td>Produto 8</td>\n",
       "    </tr>\n",
       "    <tr>\n",
       "      <th>4</th>\n",
       "      <td>C0001</td>\n",
       "      <td>Cliente 1</td>\n",
       "      <td>58</td>\n",
       "      <td>Norte</td>\n",
       "      <td>2023-07-26</td>\n",
       "      <td>68.74</td>\n",
       "      <td>Produto 19</td>\n",
       "    </tr>\n",
       "  </tbody>\n",
       "</table>\n",
       "</div>"
      ],
      "text/plain": [
       "  ID_Cliente Nome_Cliente  Idade Região Data_Compra  Valor_Compra     Produto\n",
       "0      C0001    Cliente 1     58  Norte  2023-01-26        296.25  Produto 17\n",
       "1      C0001    Cliente 1     58  Norte  2023-09-29         87.14  Produto 17\n",
       "2      C0001    Cliente 1     58  Norte  2023-02-11        427.16   Produto 3\n",
       "3      C0001    Cliente 1     58  Norte  2023-11-01         43.30   Produto 8\n",
       "4      C0001    Cliente 1     58  Norte  2023-07-26         68.74  Produto 19"
      ]
     },
     "execution_count": 111,
     "metadata": {},
     "output_type": "execute_result"
    }
   ],
   "source": [
    "# Verificando se os dados estão corretos\n",
    "df.head()\n"
   ]
  },
  {
   "cell_type": "code",
   "execution_count": 112,
   "id": "b3097d03",
   "metadata": {},
   "outputs": [],
   "source": [
    "df_agregado = df.groupby([\"ID_Cliente\",\"Nome_Cliente\", \"Região\"], as_index=False)[\"Valor_Compra\"].sum() # Agregando as colunas"
   ]
  },
  {
   "cell_type": "code",
   "execution_count": null,
   "id": "49e813d8",
   "metadata": {},
   "outputs": [],
   "source": [
    "df_sorted = df_agregado.sort_values(by=\"Valor_Compra\", ascending=False) # Ordenando pelo maior valor de compra"
   ]
  },
  {
   "cell_type": "code",
   "execution_count": 115,
   "id": "e924f7e0",
   "metadata": {},
   "outputs": [
    {
     "data": {
      "text/html": [
       "<div>\n",
       "<style scoped>\n",
       "    .dataframe tbody tr th:only-of-type {\n",
       "        vertical-align: middle;\n",
       "    }\n",
       "\n",
       "    .dataframe tbody tr th {\n",
       "        vertical-align: top;\n",
       "    }\n",
       "\n",
       "    .dataframe thead th {\n",
       "        text-align: right;\n",
       "    }\n",
       "</style>\n",
       "<table border=\"1\" class=\"dataframe\">\n",
       "  <thead>\n",
       "    <tr style=\"text-align: right;\">\n",
       "      <th></th>\n",
       "      <th>ID_Cliente</th>\n",
       "      <th>Nome_Cliente</th>\n",
       "      <th>Região</th>\n",
       "      <th>Valor_Compra</th>\n",
       "    </tr>\n",
       "  </thead>\n",
       "  <tbody>\n",
       "    <tr>\n",
       "      <th>163</th>\n",
       "      <td>C0098</td>\n",
       "      <td>Cliente 98</td>\n",
       "      <td>Sul</td>\n",
       "      <td>13393.00</td>\n",
       "    </tr>\n",
       "    <tr>\n",
       "      <th>12</th>\n",
       "      <td>C0007</td>\n",
       "      <td>Cliente 7</td>\n",
       "      <td>Leste</td>\n",
       "      <td>13365.56</td>\n",
       "    </tr>\n",
       "    <tr>\n",
       "      <th>57</th>\n",
       "      <td>C0034</td>\n",
       "      <td>Cliente 34</td>\n",
       "      <td>Sul</td>\n",
       "      <td>12341.26</td>\n",
       "    </tr>\n",
       "    <tr>\n",
       "      <th>76</th>\n",
       "      <td>C0045</td>\n",
       "      <td>Cliente 45</td>\n",
       "      <td>Norte</td>\n",
       "      <td>12145.28</td>\n",
       "    </tr>\n",
       "    <tr>\n",
       "      <th>129</th>\n",
       "      <td>C0079</td>\n",
       "      <td>Cliente 79</td>\n",
       "      <td>Leste</td>\n",
       "      <td>12096.07</td>\n",
       "    </tr>\n",
       "  </tbody>\n",
       "</table>\n",
       "</div>"
      ],
      "text/plain": [
       "    ID_Cliente Nome_Cliente Região  Valor_Compra\n",
       "163      C0098   Cliente 98    Sul      13393.00\n",
       "12       C0007    Cliente 7  Leste      13365.56\n",
       "57       C0034   Cliente 34    Sul      12341.26\n",
       "76       C0045   Cliente 45  Norte      12145.28\n",
       "129      C0079   Cliente 79  Leste      12096.07"
      ]
     },
     "execution_count": 115,
     "metadata": {},
     "output_type": "execute_result"
    }
   ],
   "source": [
    "df_sorted.head()"
   ]
  },
  {
   "cell_type": "code",
   "execution_count": 116,
   "id": "ed6f1c81",
   "metadata": {},
   "outputs": [],
   "source": [
    "df_sorted.to_csv(\"../data/processed/sales_request.csv\", index=False)"
   ]
  },
  {
   "cell_type": "code",
   "execution_count": null,
   "id": "15405ae2",
   "metadata": {},
   "outputs": [],
   "source": []
  }
 ],
 "metadata": {
  "language_info": {
   "name": "python"
  }
 },
 "nbformat": 4,
 "nbformat_minor": 5
}
