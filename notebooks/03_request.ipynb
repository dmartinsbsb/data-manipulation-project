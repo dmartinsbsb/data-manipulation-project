{
 "cells": [
  {
   "cell_type": "code",
   "execution_count": 1,
   "id": "0552f861",
   "metadata": {},
   "outputs": [],
   "source": [
    "# === 03_request.ipynb ================================================\n",
    "# =====================================================================\n",
    "# Objetivo de verificar se o DataFrame está limpo para o time de data science\n",
    "# Uso de pandas para manipulação dos dados"
   ]
  },
  {
   "cell_type": "code",
   "execution_count": 8,
   "id": "86208d0d",
   "metadata": {},
   "outputs": [],
   "source": [
    "# === Bibliotecas =========\n",
    "import pandas as pd\n",
    "import seaborn as sns\n",
    "import matplotlib.pyplot as plt\n",
    "from sklearn.preprocessing import LabelEncoder"
   ]
  },
  {
   "cell_type": "code",
   "execution_count": 4,
   "id": "baa59913",
   "metadata": {},
   "outputs": [],
   "source": [
    "df = pd.read_csv(\"../data/processed/dataset_processed.csv\") # lendo os dados"
   ]
  },
  {
   "cell_type": "code",
   "execution_count": 13,
   "id": "bccbe901",
   "metadata": {},
   "outputs": [
    {
     "data": {
      "text/plain": [
       "ID_Cliente      0\n",
       "Nome_Cliente    0\n",
       "Idade           0\n",
       "Região          0\n",
       "Data_Compra     0\n",
       "Valor_Compra    0\n",
       "Produto         0\n",
       "dtype: int64"
      ]
     },
     "execution_count": 13,
     "metadata": {},
     "output_type": "execute_result"
    }
   ],
   "source": [
    "df.isnull().sum()"
   ]
  },
  {
   "cell_type": "code",
   "execution_count": 5,
   "id": "f15efb4a",
   "metadata": {},
   "outputs": [
    {
     "name": "stdout",
     "output_type": "stream",
     "text": [
      "<class 'pandas.core.frame.DataFrame'>\n",
      "RangeIndex: 2594 entries, 0 to 2593\n",
      "Data columns (total 7 columns):\n",
      " #   Column        Non-Null Count  Dtype  \n",
      "---  ------        --------------  -----  \n",
      " 0   ID_Cliente    2594 non-null   object \n",
      " 1   Nome_Cliente  2594 non-null   object \n",
      " 2   Idade         2594 non-null   int64  \n",
      " 3   Região        2594 non-null   object \n",
      " 4   Data_Compra   2594 non-null   object \n",
      " 5   Valor_Compra  2594 non-null   float64\n",
      " 6   Produto       2594 non-null   object \n",
      "dtypes: float64(1), int64(1), object(5)\n",
      "memory usage: 142.0+ KB\n"
     ]
    }
   ],
   "source": [
    "df.info() # Verificando se todas as colunas estão corretas"
   ]
  },
  {
   "cell_type": "code",
   "execution_count": 12,
   "id": "67097a49",
   "metadata": {},
   "outputs": [
    {
     "name": "stdout",
     "output_type": "stream",
     "text": [
      "     ID_Cliente Nome_Cliente  Idade  Região Data_Compra  Valor_Compra  Produto\n",
      "0         C0001    Cliente 1     58       2  2023-01-26        296.25        8\n",
      "1         C0001    Cliente 1     58       2  2023-09-29         87.14        8\n",
      "2         C0001    Cliente 1     58       2  2023-02-11        427.16       13\n",
      "3         C0001    Cliente 1     58       2  2023-11-01         43.30       18\n",
      "4         C0001    Cliente 1     58       2  2023-07-26         68.74       10\n",
      "...         ...          ...    ...     ...         ...           ...      ...\n",
      "2589      C0099   Cliente 99     42       1  2023-10-14        190.97       14\n",
      "2590      C0099   Cliente 99     42       1  2023-11-05        427.64       14\n",
      "2591      C0099   Cliente 99     42       1  2023-03-03        191.10        1\n",
      "2592      C0099   Cliente 99     42       1  2023-01-21        266.16       14\n",
      "2593      C0100  Cliente 100     40       3  2023-07-10        159.41        3\n",
      "\n",
      "[2594 rows x 7 columns]\n"
     ]
    }
   ],
   "source": [
    "# Convertendo colunas categóricas para valores numéricos\n",
    "\n",
    "# Criar o codificador\n",
    "label_encoder = LabelEncoder()\n",
    "\n",
    "# Converter 'Região' e 'Produto' para valores numéricos\n",
    "df['Região'] = label_encoder.fit_transform(df['Região'])\n",
    "df['Produto'] = label_encoder.fit_transform(df['Produto'])\n",
    "\n",
    "\n",
    "print(df)"
   ]
  },
  {
   "cell_type": "code",
   "execution_count": 15,
   "id": "77876b69",
   "metadata": {},
   "outputs": [],
   "source": [
    "df.to_csv('../data/processed/ds_request.csv', index=False)"
   ]
  },
  {
   "cell_type": "code",
   "execution_count": null,
   "id": "61d6362b",
   "metadata": {},
   "outputs": [],
   "source": []
  }
 ],
 "metadata": {
  "kernelspec": {
   "display_name": ".venv",
   "language": "python",
   "name": "python3"
  },
  "language_info": {
   "codemirror_mode": {
    "name": "ipython",
    "version": 3
   },
   "file_extension": ".py",
   "mimetype": "text/x-python",
   "name": "python",
   "nbconvert_exporter": "python",
   "pygments_lexer": "ipython3",
   "version": "3.11.3"
  }
 },
 "nbformat": 4,
 "nbformat_minor": 5
}
